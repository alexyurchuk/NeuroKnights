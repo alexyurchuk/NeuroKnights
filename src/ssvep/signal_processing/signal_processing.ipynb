{
 "cells": [
  {
   "cell_type": "markdown",
   "metadata": {},
   "source": [
    "### <center>Signal Processing</center>\n",
    "\n",
    "**Note**: _This file is only for testing purposes. It is not user-friendly and requires user to adjust it for themselves._\n"
   ]
  },
  {
   "cell_type": "code",
   "execution_count": 1,
   "metadata": {},
   "outputs": [
    {
     "name": "stdout",
     "output_type": "stream",
     "text": [
      "Requirement already satisfied: brainflow in d:\\nathacks\\.venv\\lib\\site-packages (from -r D:\\\\natHacks\\\\NeuroKnights\\\\requirements.txt (line 1)) (5.14.0)\n",
      "Requirement already satisfied: numpy in d:\\nathacks\\.venv\\lib\\site-packages (from brainflow->-r D:\\\\natHacks\\\\NeuroKnights\\\\requirements.txt (line 1)) (2.1.3)\n",
      "Requirement already satisfied: setuptools in d:\\nathacks\\.venv\\lib\\site-packages (from brainflow->-r D:\\\\natHacks\\\\NeuroKnights\\\\requirements.txt (line 1)) (75.3.0)\n",
      "Note: you may need to restart the kernel to use updated packages.\n"
     ]
    }
   ],
   "source": [
    "%pip install -r \"D:\\\\natHacks\\\\NeuroKnights\\\\requirements.txt\""
   ]
  },
  {
   "cell_type": "markdown",
   "metadata": {},
   "source": [
    "#### Imports\n"
   ]
  },
  {
   "cell_type": "code",
   "execution_count": null,
   "metadata": {},
   "outputs": [],
   "source": [
    "import time\n",
    "import serial.tools.list_ports\n",
    "\n",
    "from brainflow.board_shim import BoardShim, BrainFlowInputParams, BoardIds"
   ]
  },
  {
   "cell_type": "markdown",
   "metadata": {},
   "source": [
    "#### Listing available ports\n"
   ]
  },
  {
   "cell_type": "code",
   "execution_count": 2,
   "metadata": {},
   "outputs": [
    {
     "name": "stdout",
     "output_type": "stream",
     "text": [
      "['COM3', 'COM6']\n"
     ]
    }
   ],
   "source": [
    "ports = serial.tools.list_ports.comports()\n",
    "print([port.device for port in ports])"
   ]
  },
  {
   "cell_type": "code",
   "execution_count": 3,
   "metadata": {},
   "outputs": [],
   "source": [
    "BoardShim.enable_dev_board_logger()\n",
    "\n",
    "params = BrainFlowInputParams()\n",
    "\n",
    "params.serial_port = \"COM6\"\n",
    "\n",
    "board = BoardShim(BoardIds.NEUROPAWN_KNIGHT_BOARD, params)"
   ]
  },
  {
   "cell_type": "code",
   "execution_count": 4,
   "metadata": {},
   "outputs": [
    {
     "name": "stdout",
     "output_type": "stream",
     "text": [
      "125\n"
     ]
    }
   ],
   "source": [
    "print(board.get_sampling_rate(BoardIds.NEUROPAWN_KNIGHT_BOARD))\n",
    "# print(board.get_eeg_channels(-1))"
   ]
  },
  {
   "cell_type": "code",
   "execution_count": 5,
   "metadata": {},
   "outputs": [
    {
     "name": "stdout",
     "output_type": "stream",
     "text": [
      "True\n"
     ]
    }
   ],
   "source": [
    "board.prepare_session()\n",
    "print(board.is_prepared())"
   ]
  },
  {
   "cell_type": "code",
   "execution_count": 6,
   "metadata": {},
   "outputs": [],
   "source": [
    "board.start_stream(450000)"
   ]
  },
  {
   "cell_type": "code",
   "execution_count": 19,
   "metadata": {},
   "outputs": [
    {
     "name": "stdout",
     "output_type": "stream",
     "text": [
      "Indecies for EEG channels [1, 2, 3, 4, 5, 6, 7, 8]\n",
      "Indecies for EXG channels [1, 2, 3, 4, 5, 6, 7, 8]\n"
     ]
    }
   ],
   "source": [
    "print(\n",
    "    f\"Indecies for EEG channels {BoardShim.get_eeg_channels(BoardIds.NEUROPAWN_KNIGHT_BOARD)}\"\n",
    ")\n",
    "print(\n",
    "    f\"Indecies for EXG channels {BoardShim.get_exg_channels(BoardIds.NEUROPAWN_KNIGHT_BOARD)}\"\n",
    ")"
   ]
  },
  {
   "cell_type": "code",
   "execution_count": 7,
   "metadata": {},
   "outputs": [],
   "source": [
    "channels = list(range(1, 5))\n",
    "gain_value = 12"
   ]
  },
  {
   "cell_type": "code",
   "execution_count": 30,
   "metadata": {},
   "outputs": [
    {
     "name": "stdout",
     "output_type": "stream",
     "text": [
      "Enabled channel 1 with gain 12.\n",
      "Enabled channel 2 with gain 12.\n",
      "Enabled channel 3 with gain 12.\n",
      "Enabled channel 4 with gain 12.\n"
     ]
    }
   ],
   "source": [
    "for channel in channels:\n",
    "    board.config_board(f\"chon_{channel}_{gain_value}\")\n",
    "    print(f\"Enabled channel {channel} with gain {gain_value}.\")\n",
    "    time.sleep(0.5)"
   ]
  },
  {
   "cell_type": "code",
   "execution_count": 34,
   "metadata": {},
   "outputs": [
    {
     "data": {
      "text/plain": [
       "array([[ -38.14697647,  184.89363098,  127.75263977, ...,  457.12796021,\n",
       "        -283.08236694,  566.7210083 ],\n",
       "       [ -69.9758606 ,  196.61587524,   92.54615784, ...,  424.62353516,\n",
       "        -271.08197021,  543.51495361],\n",
       "       [ 129.18315125,  291.10913086,  287.89047241, ...,  613.37158203,\n",
       "        -149.88583374,  720.54077148],\n",
       "       [ 218.55038452,  388.26470947,  372.72775269, ...,  677.58569336,\n",
       "         -51.29973602,  789.12585449]])"
      ]
     },
     "execution_count": 34,
     "metadata": {},
     "output_type": "execute_result"
    }
   ],
   "source": [
    "assert board\n",
    "data = board.get_current_board_data(1000)[1:5]\n",
    "data"
   ]
  },
  {
   "cell_type": "code",
   "execution_count": 35,
   "metadata": {},
   "outputs": [
    {
     "data": {
      "text/plain": [
       "(4, 1000)"
      ]
     },
     "execution_count": 35,
     "metadata": {},
     "output_type": "execute_result"
    }
   ],
   "source": [
    "data.shape"
   ]
  },
  {
   "cell_type": "markdown",
   "metadata": {},
   "source": [
    "#### Attempting to implement analysis\n",
    "\n",
    "**Recreating the method described in the study**: [Classification of SSVEP signals using the combined FoCCA-KNN method and comparison with other machine learning methods](https://www.sciencedirect.com/science/article/abs/pii/S1746809423003907)\n",
    "\n",
    "**Electrode placement**: \"OZ\", \"O1\", \"O2\"\n"
   ]
  },
  {
   "cell_type": "code",
   "execution_count": null,
   "metadata": {},
   "outputs": [],
   "source": [
    "from brainflow.data_filter import DataFilter, FilterTypes"
   ]
  },
  {
   "cell_type": "markdown",
   "metadata": {},
   "source": [
    "##### Band-stop and band-pass filters\n"
   ]
  },
  {
   "cell_type": "code",
   "execution_count": null,
   "metadata": {},
   "outputs": [],
   "source": [
    "sampling_rate = BoardShim.get_sampling_rate(board_id=BoardIds.NEUROPAWN_KNIGHT_BOARD)\n",
    "DataFilter.perform_bandpass(\n",
    "    data=data,\n",
    "    sampling_rate=sampling_rate,\n",
    "    start_freq=6.0,\n",
    "    stop_freq=20.0,\n",
    "    order=2,\n",
    "    filter_type=FilterTypes.BUTTERWORTH_ZERO_PHASE.value,\n",
    "    ripple=0,\n",
    ")\n",
    "DataFilter.perform_bandstop(  # is this neccesary? we already have bandpass...\n",
    "    data=data,\n",
    "    sampling_rate=sampling_rate,\n",
    "    start_freq=49.0,\n",
    "    stop_freq=51.0,\n",
    "    order=2,\n",
    "    filter_type=FilterTypes.BUTTERWORTH_ZERO_PHASE.value,\n",
    "    ripple=0,\n",
    ")\n",
    "DataFilter.perform_bandstop(  # is this neccesary? we already have bandpass...\n",
    "    data=data,\n",
    "    sampling_rate=sampling_rate,\n",
    "    start_freq=59.0,\n",
    "    stop_freq=61.0,\n",
    "    order=2,\n",
    "    filter_type=FilterTypes.BUTTERWORTH_ZERO_PHASE.value,\n",
    "    ripple=0,\n",
    ")"
   ]
  },
  {
   "cell_type": "markdown",
   "metadata": {},
   "source": [
    "##### Common Average Referencing (CAR) Filter\n"
   ]
  },
  {
   "cell_type": "code",
   "execution_count": null,
   "metadata": {},
   "outputs": [],
   "source": [
    "data -= data.mean()"
   ]
  },
  {
   "cell_type": "markdown",
   "metadata": {},
   "source": [
    "##### Selecting the appropriate harmonics, channels and coefficients\n"
   ]
  },
  {
   "cell_type": "markdown",
   "metadata": {},
   "source": [
    "#### End session\n"
   ]
  },
  {
   "cell_type": "code",
   "execution_count": 36,
   "metadata": {},
   "outputs": [
    {
     "name": "stdout",
     "output_type": "stream",
     "text": [
      "Disabled channel 1 with gain 12.\n",
      "Disabled channel 2 with gain 12.\n",
      "Disabled channel 3 with gain 12.\n",
      "Disabled channel 4 with gain 12.\n"
     ]
    }
   ],
   "source": [
    "for channel in channels:\n",
    "    board.config_board(f\"choff_{channel}\")\n",
    "    print(f\"Disabled channel {channel} with gain {gain_value}.\")\n",
    "    time.sleep(0.5)"
   ]
  },
  {
   "cell_type": "code",
   "execution_count": 37,
   "metadata": {},
   "outputs": [],
   "source": [
    "board.stop_stream()\n",
    "board.release_session()"
   ]
  }
 ],
 "metadata": {
  "kernelspec": {
   "display_name": ".venv",
   "language": "python",
   "name": "python3"
  },
  "language_info": {
   "codemirror_mode": {
    "name": "ipython",
    "version": 3
   },
   "file_extension": ".py",
   "mimetype": "text/x-python",
   "name": "python",
   "nbconvert_exporter": "python",
   "pygments_lexer": "ipython3",
   "version": "3.12.2"
  }
 },
 "nbformat": 4,
 "nbformat_minor": 2
}
