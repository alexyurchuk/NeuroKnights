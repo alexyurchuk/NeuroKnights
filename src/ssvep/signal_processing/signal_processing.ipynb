{
 "cells": [
  {
   "cell_type": "markdown",
   "metadata": {},
   "source": [
    "### <center>Signal Processing</center>\n",
    "\n",
    "**Note**: _This file is only for testing purposes. It is not user-friendly and requires user to adjust it for themselves._\n"
   ]
  },
  {
   "cell_type": "code",
   "execution_count": null,
   "metadata": {},
   "outputs": [],
   "source": [
    "%pip install -r \"D:\\\\natHacks\\\\NeuroKnights\\\\requirements.txt\""
   ]
  },
  {
   "cell_type": "markdown",
   "metadata": {},
   "source": [
    "#### Imports\n"
   ]
  },
  {
   "cell_type": "code",
   "execution_count": 1,
   "metadata": {},
   "outputs": [],
   "source": [
    "import time\n",
    "import serial.tools.list_ports\n",
    "\n",
    "from brainflow.board_shim import BoardShim, BrainFlowInputParams, BoardIds"
   ]
  },
  {
   "cell_type": "markdown",
   "metadata": {},
   "source": [
    "#### Listing available ports\n"
   ]
  },
  {
   "cell_type": "code",
   "execution_count": 2,
   "metadata": {},
   "outputs": [
    {
     "name": "stdout",
     "output_type": "stream",
     "text": [
      "['COM5', 'COM6', 'COM4', 'COM3']\n"
     ]
    }
   ],
   "source": [
    "ports = serial.tools.list_ports.comports()\n",
    "print([port.device for port in ports])"
   ]
  },
  {
   "cell_type": "code",
   "execution_count": 3,
   "metadata": {},
   "outputs": [],
   "source": [
    "BoardShim.enable_dev_board_logger()\n",
    "\n",
    "params = BrainFlowInputParams()\n",
    "\n",
    "params.serial_port = \"COM6\"\n",
    "\n",
    "board = BoardShim(BoardIds.NEUROPAWN_KNIGHT_BOARD, params)"
   ]
  },
  {
   "cell_type": "code",
   "execution_count": null,
   "metadata": {},
   "outputs": [],
   "source": [
    "print(board.get_sampling_rate(BoardIds.NEUROPAWN_KNIGHT_BOARD))\n",
    "# print(board.get_eeg_channels(-1))"
   ]
  },
  {
   "cell_type": "code",
   "execution_count": 4,
   "metadata": {},
   "outputs": [
    {
     "name": "stdout",
     "output_type": "stream",
     "text": [
      "True\n"
     ]
    }
   ],
   "source": [
    "board.prepare_session()\n",
    "print(board.is_prepared())"
   ]
  },
  {
   "cell_type": "code",
   "execution_count": 5,
   "metadata": {},
   "outputs": [],
   "source": [
    "board.start_stream(450000)"
   ]
  },
  {
   "cell_type": "code",
   "execution_count": null,
   "metadata": {},
   "outputs": [],
   "source": [
    "print(\n",
    "    f\"Indecies for EEG channels {BoardShim.get_eeg_channels(BoardIds.NEUROPAWN_KNIGHT_BOARD)}\"\n",
    ")\n",
    "print(\n",
    "    f\"Indecies for EXG channels {BoardShim.get_exg_channels(BoardIds.NEUROPAWN_KNIGHT_BOARD)}\"\n",
    ")"
   ]
  },
  {
   "cell_type": "code",
   "execution_count": 6,
   "metadata": {},
   "outputs": [],
   "source": [
    "channels = list(range(1, 4))  # TODO: change to using get_exg_channels\n",
    "gain_value = 12"
   ]
  },
  {
   "cell_type": "code",
   "execution_count": 7,
   "metadata": {},
   "outputs": [
    {
     "name": "stdout",
     "output_type": "stream",
     "text": [
      "Enabled channel 1 with gain 12.\n",
      "Enabled channel 2 with gain 12.\n",
      "Enabled channel 3 with gain 12.\n"
     ]
    }
   ],
   "source": [
    "for channel in channels:\n",
    "    board.config_board(f\"chon_{channel}_{gain_value}\")\n",
    "    print(f\"Enabled channel {channel} with gain {gain_value}.\")\n",
    "    time.sleep(0.5)"
   ]
  },
  {
   "cell_type": "code",
   "execution_count": 24,
   "metadata": {},
   "outputs": [
    {
     "data": {
      "text/plain": [
       "array([[ 698.80493164, -187.27781677,  569.34362793, ...,  802.15942383,\n",
       "        -342.96517944,  747.52178955],\n",
       "       [ 688.67218018, -173.60848999,  555.51538086, ...,  799.89440918,\n",
       "        -334.77944946,  740.84606934],\n",
       "       [ 701.14941406, -194.98667908,  572.24438477, ...,  803.15283203,\n",
       "        -345.86593628,  749.82653809]])"
      ]
     },
     "execution_count": 24,
     "metadata": {},
     "output_type": "execute_result"
    }
   ],
   "source": [
    "assert board\n",
    "data = board.get_current_board_data(1000)[1:4]\n",
    "data"
   ]
  },
  {
   "cell_type": "code",
   "execution_count": null,
   "metadata": {},
   "outputs": [],
   "source": [
    "data.shape"
   ]
  },
  {
   "cell_type": "markdown",
   "metadata": {},
   "source": [
    "#### Attempting to implement analysis\n",
    "\n",
    "**Recreating the method described in the study**: [Classification of SSVEP signals using the combined FoCCA-KNN method and comparison with other machine learning methods](https://www.sciencedirect.com/science/article/abs/pii/S1746809423003907)\n",
    "\n",
    "**Electrode placement**: \"OZ\", \"O1\", \"O2\"\n"
   ]
  },
  {
   "cell_type": "code",
   "execution_count": null,
   "metadata": {},
   "outputs": [],
   "source": [
    "from brainflow.data_filter import DataFilter, FilterTypes"
   ]
  },
  {
   "cell_type": "markdown",
   "metadata": {},
   "source": [
    "##### Band-stop and band-pass filters\n"
   ]
  },
  {
   "cell_type": "code",
   "execution_count": null,
   "metadata": {},
   "outputs": [],
   "source": [
    "sampling_rate = BoardShim.get_sampling_rate(board_id=BoardIds.NEUROPAWN_KNIGHT_BOARD)\n",
    "DataFilter.perform_bandpass(\n",
    "    data=data,\n",
    "    sampling_rate=sampling_rate,\n",
    "    start_freq=6.0,\n",
    "    stop_freq=40.0,\n",
    "    order=2,\n",
    "    filter_type=FilterTypes.BUTTERWORTH_ZERO_PHASE.value,\n",
    "    ripple=0,\n",
    ")\n",
    "# DataFilter.perform_bandstop(  # is this neccesary? we already have bandpass...\n",
    "#     data=data,\n",
    "#     sampling_rate=sampling_rate,\n",
    "#     start_freq=49.0,\n",
    "#     stop_freq=51.0,\n",
    "#     order=2,\n",
    "#     filter_type=FilterTypes.BUTTERWORTH_ZERO_PHASE.value,\n",
    "#     ripple=0,\n",
    "# )\n",
    "# DataFilter.perform_bandstop(  # is this neccesary? we already have bandpass...\n",
    "#     data=data,\n",
    "#     sampling_rate=sampling_rate,\n",
    "#     start_freq=59.0,\n",
    "#     stop_freq=61.0,\n",
    "#     order=2,\n",
    "#     filter_type=FilterTypes.BUTTERWORTH_ZERO_PHASE.value,\n",
    "#     ripple=0,\n",
    "# )"
   ]
  },
  {
   "cell_type": "markdown",
   "metadata": {},
   "source": [
    "##### Common Average Referencing (CAR) Filter\n"
   ]
  },
  {
   "cell_type": "code",
   "execution_count": null,
   "metadata": {},
   "outputs": [],
   "source": [
    "data -= data.mean()"
   ]
  },
  {
   "cell_type": "markdown",
   "metadata": {},
   "source": [
    "##### Selecting the appropriate harmonics, channels and coefficients\n"
   ]
  },
  {
   "cell_type": "markdown",
   "metadata": {},
   "source": [
    "#### End session\n"
   ]
  },
  {
   "cell_type": "code",
   "execution_count": null,
   "metadata": {},
   "outputs": [],
   "source": [
    "for channel in channels:\n",
    "    board.config_board(f\"choff_{channel}\")\n",
    "    print(f\"Disabled channel {channel} with gain {gain_value}.\")\n",
    "    time.sleep(0.5)"
   ]
  },
  {
   "cell_type": "code",
   "execution_count": null,
   "metadata": {},
   "outputs": [],
   "source": [
    "board.stop_stream()\n",
    "board.release_session()"
   ]
  }
 ],
 "metadata": {
  "kernelspec": {
   "display_name": ".venv",
   "language": "python",
   "name": "python3"
  },
  "language_info": {
   "codemirror_mode": {
    "name": "ipython",
    "version": 3
   },
   "file_extension": ".py",
   "mimetype": "text/x-python",
   "name": "python",
   "nbconvert_exporter": "python",
   "pygments_lexer": "ipython3",
   "version": "3.12.2"
  }
 },
 "nbformat": 4,
 "nbformat_minor": 2
}
