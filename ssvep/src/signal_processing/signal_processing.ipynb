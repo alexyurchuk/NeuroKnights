{
 "cells": [
  {
   "cell_type": "markdown",
   "metadata": {},
   "source": [
    "### <center>Signal Processing</center>\n"
   ]
  },
  {
   "cell_type": "code",
   "execution_count": 5,
   "metadata": {},
   "outputs": [
    {
     "name": "stdout",
     "output_type": "stream",
     "text": [
      "Requirement already satisfied: asttokens==2.4.1 in d:\\nathacks\\.venv\\lib\\site-packages (from -r D:\\\\natHacks\\\\NeuroKnights\\\\requirements.txt (line 1)) (2.4.1)\n",
      "Requirement already satisfied: colorama==0.4.6 in d:\\nathacks\\.venv\\lib\\site-packages (from -r D:\\\\natHacks\\\\NeuroKnights\\\\requirements.txt (line 2)) (0.4.6)\n",
      "Requirement already satisfied: comm==0.2.2 in d:\\nathacks\\.venv\\lib\\site-packages (from -r D:\\\\natHacks\\\\NeuroKnights\\\\requirements.txt (line 3)) (0.2.2)\n",
      "Requirement already satisfied: debugpy==1.8.7 in d:\\nathacks\\.venv\\lib\\site-packages (from -r D:\\\\natHacks\\\\NeuroKnights\\\\requirements.txt (line 4)) (1.8.7)\n",
      "Requirement already satisfied: decorator==5.1.1 in d:\\nathacks\\.venv\\lib\\site-packages (from -r D:\\\\natHacks\\\\NeuroKnights\\\\requirements.txt (line 5)) (5.1.1)\n",
      "Requirement already satisfied: executing==2.1.0 in d:\\nathacks\\.venv\\lib\\site-packages (from -r D:\\\\natHacks\\\\NeuroKnights\\\\requirements.txt (line 6)) (2.1.0)\n",
      "Requirement already satisfied: ipykernel==6.29.5 in d:\\nathacks\\.venv\\lib\\site-packages (from -r D:\\\\natHacks\\\\NeuroKnights\\\\requirements.txt (line 7)) (6.29.5)\n",
      "Requirement already satisfied: ipython==8.29.0 in d:\\nathacks\\.venv\\lib\\site-packages (from -r D:\\\\natHacks\\\\NeuroKnights\\\\requirements.txt (line 8)) (8.29.0)\n",
      "Requirement already satisfied: jedi==0.19.1 in d:\\nathacks\\.venv\\lib\\site-packages (from -r D:\\\\natHacks\\\\NeuroKnights\\\\requirements.txt (line 9)) (0.19.1)\n",
      "Requirement already satisfied: jupyter_client==8.6.3 in d:\\nathacks\\.venv\\lib\\site-packages (from -r D:\\\\natHacks\\\\NeuroKnights\\\\requirements.txt (line 10)) (8.6.3)\n",
      "Requirement already satisfied: jupyter_core==5.7.2 in d:\\nathacks\\.venv\\lib\\site-packages (from -r D:\\\\natHacks\\\\NeuroKnights\\\\requirements.txt (line 11)) (5.7.2)\n",
      "Requirement already satisfied: matplotlib-inline==0.1.7 in d:\\nathacks\\.venv\\lib\\site-packages (from -r D:\\\\natHacks\\\\NeuroKnights\\\\requirements.txt (line 12)) (0.1.7)\n",
      "Requirement already satisfied: nest-asyncio==1.6.0 in d:\\nathacks\\.venv\\lib\\site-packages (from -r D:\\\\natHacks\\\\NeuroKnights\\\\requirements.txt (line 13)) (1.6.0)\n",
      "Requirement already satisfied: packaging==24.1 in d:\\nathacks\\.venv\\lib\\site-packages (from -r D:\\\\natHacks\\\\NeuroKnights\\\\requirements.txt (line 14)) (24.1)\n",
      "Requirement already satisfied: parso==0.8.4 in d:\\nathacks\\.venv\\lib\\site-packages (from -r D:\\\\natHacks\\\\NeuroKnights\\\\requirements.txt (line 15)) (0.8.4)\n",
      "Requirement already satisfied: platformdirs==4.3.6 in d:\\nathacks\\.venv\\lib\\site-packages (from -r D:\\\\natHacks\\\\NeuroKnights\\\\requirements.txt (line 16)) (4.3.6)\n",
      "Requirement already satisfied: prompt_toolkit==3.0.48 in d:\\nathacks\\.venv\\lib\\site-packages (from -r D:\\\\natHacks\\\\NeuroKnights\\\\requirements.txt (line 17)) (3.0.48)\n",
      "Requirement already satisfied: psutil==6.1.0 in d:\\nathacks\\.venv\\lib\\site-packages (from -r D:\\\\natHacks\\\\NeuroKnights\\\\requirements.txt (line 18)) (6.1.0)\n",
      "Requirement already satisfied: pure_eval==0.2.3 in d:\\nathacks\\.venv\\lib\\site-packages (from -r D:\\\\natHacks\\\\NeuroKnights\\\\requirements.txt (line 19)) (0.2.3)\n",
      "Requirement already satisfied: Pygments==2.18.0 in d:\\nathacks\\.venv\\lib\\site-packages (from -r D:\\\\natHacks\\\\NeuroKnights\\\\requirements.txt (line 20)) (2.18.0)\n",
      "Requirement already satisfied: python-dateutil==2.9.0.post0 in d:\\nathacks\\.venv\\lib\\site-packages (from -r D:\\\\natHacks\\\\NeuroKnights\\\\requirements.txt (line 21)) (2.9.0.post0)\n",
      "Requirement already satisfied: pywin32==308 in d:\\nathacks\\.venv\\lib\\site-packages (from -r D:\\\\natHacks\\\\NeuroKnights\\\\requirements.txt (line 22)) (308)\n",
      "Requirement already satisfied: pyzmq==26.2.0 in d:\\nathacks\\.venv\\lib\\site-packages (from -r D:\\\\natHacks\\\\NeuroKnights\\\\requirements.txt (line 23)) (26.2.0)\n",
      "Requirement already satisfied: six==1.16.0 in d:\\nathacks\\.venv\\lib\\site-packages (from -r D:\\\\natHacks\\\\NeuroKnights\\\\requirements.txt (line 24)) (1.16.0)\n",
      "Requirement already satisfied: stack-data==0.6.3 in d:\\nathacks\\.venv\\lib\\site-packages (from -r D:\\\\natHacks\\\\NeuroKnights\\\\requirements.txt (line 25)) (0.6.3)\n",
      "Requirement already satisfied: tornado==6.4.1 in d:\\nathacks\\.venv\\lib\\site-packages (from -r D:\\\\natHacks\\\\NeuroKnights\\\\requirements.txt (line 26)) (6.4.1)\n",
      "Requirement already satisfied: traitlets==5.14.3 in d:\\nathacks\\.venv\\lib\\site-packages (from -r D:\\\\natHacks\\\\NeuroKnights\\\\requirements.txt (line 27)) (5.14.3)\n",
      "Requirement already satisfied: wcwidth==0.2.13 in d:\\nathacks\\.venv\\lib\\site-packages (from -r D:\\\\natHacks\\\\NeuroKnights\\\\requirements.txt (line 28)) (0.2.13)\n",
      "Requirement already satisfied: brainflow in d:\\nathacks\\.venv\\lib\\site-packages (from -r D:\\\\natHacks\\\\NeuroKnights\\\\requirements.txt (line 30)) (5.14.0)\n",
      "Requirement already satisfied: numpy in d:\\nathacks\\.venv\\lib\\site-packages (from brainflow->-r D:\\\\natHacks\\\\NeuroKnights\\\\requirements.txt (line 30)) (2.1.3)\n",
      "Requirement already satisfied: setuptools in d:\\nathacks\\.venv\\lib\\site-packages (from brainflow->-r D:\\\\natHacks\\\\NeuroKnights\\\\requirements.txt (line 30)) (75.3.0)\n",
      "Note: you may need to restart the kernel to use updated packages.\n"
     ]
    }
   ],
   "source": [
    "%pip install -r \"D:\\\\natHacks\\\\NeuroKnights\\\\requirements.txt\""
   ]
  },
  {
   "cell_type": "code",
   "execution_count": 20,
   "metadata": {},
   "outputs": [
    {
     "name": "stdout",
     "output_type": "stream",
     "text": [
      "[1, 2, 3, 4, 5, 6, 7, 8, 9, 10, 11, 12, 13, 14, 15, 16]\n",
      "[[ 0.00000000e+00  1.00000000e+00  2.00000000e+00 ...  2.45000000e+02\n",
      "   2.46000000e+02  2.47000000e+02]\n",
      " [ 1.17915988e+01  1.35581238e+01  1.49889295e+01 ...  3.25978932e+00\n",
      "   4.92024249e+00  6.32956644e+00]\n",
      " [ 2.76274333e+01  3.44584670e+01  4.08468020e+01 ... -1.81461053e+00\n",
      "   1.06530505e+00  8.56181503e+00]\n",
      " ...\n",
      " [ 5.01322406e+02 -1.05610006e+02  3.57962011e+01 ...  1.24740051e+02\n",
      "   2.14073028e+02  8.57029734e+01]\n",
      " [ 4.74189989e+02  1.21963885e+01  1.76284101e+02 ...  3.02350735e+01\n",
      "   2.65259966e+02  1.39039295e+02]\n",
      " [ 4.82794968e+02  2.07893803e-02  3.35232469e+02 ... -1.83748800e+02\n",
      "   2.24774952e+02  1.79004469e+02]]\n",
      "(17, 248)\n"
     ]
    }
   ],
   "source": [
    "# import argparse\n",
    "import time\n",
    "\n",
    "from brainflow.board_shim import BoardShim, BrainFlowInputParams, BoardIds\n",
    "\n",
    "\n",
    "def main(\n",
    "    board_id=BoardIds.SYNTHETIC_BOARD,\n",
    "    ip_port=0,\n",
    "    serial_port=\"\",\n",
    "    mac_address=\"\",\n",
    "    other_info=\"\",\n",
    "    serial_number=\"\",\n",
    "    ip_address=\"\",\n",
    "    ip_protocol=0,\n",
    "    timeout=0,\n",
    "    file=\"\",\n",
    "    master_board=BoardIds.NO_BOARD,\n",
    "):\n",
    "    BoardShim.enable_dev_board_logger()\n",
    "\n",
    "    # parser = argparse.ArgumentParser()\n",
    "    # # use docs to check which parameters are required for specific board, e.g. for Cyton - set serial port\n",
    "    # parser.add_argument('--timeout', type=int, help='timeout for device discovery or connection', required=False,\n",
    "    #                     default=0)\n",
    "    # parser.add_argument('--ip-port', type=int, help='ip port', required=False, default=0)\n",
    "    # parser.add_argument('--ip-protocol', type=int, help='ip protocol, check IpProtocolType enum', required=False,\n",
    "    #                     default=0)\n",
    "    # parser.add_argument('--ip-address', type=str, help='ip address', required=False, default='')\n",
    "    # parser.add_argument('--serial-port', type=str, help='serial port', required=False, default='')\n",
    "    # parser.add_argument('--mac-address', type=str, help='mac address', required=False, default='')\n",
    "    # parser.add_argument('--other-info', type=str, help='other info', required=False, default='')\n",
    "    # parser.add_argument('--serial-number', type=str, help='serial number', required=False, default='')\n",
    "    # parser.add_argument('--board-id', type=int, help='board id, check docs to get a list of supported boards',\n",
    "    #                     required=False, default=BoardIds.SYNTHETIC_BOARD)\n",
    "    # parser.add_argument('--file', type=str, help='file', required=False, default='')\n",
    "    # parser.add_argument('--master-board', type=int, help='master board id for streaming and playback boards',\n",
    "    #                     required=False, default=BoardIds.NO_BOARD)\n",
    "    # args = parser.parse_args()\n",
    "\n",
    "    params = BrainFlowInputParams()\n",
    "    params.ip_port = ip_port\n",
    "    params.serial_port = serial_port\n",
    "    params.mac_address = mac_address\n",
    "    params.other_info = other_info\n",
    "    params.serial_number = serial_number\n",
    "    params.ip_address = ip_address\n",
    "    params.ip_protocol = ip_protocol\n",
    "    params.timeout = timeout\n",
    "    params.file = file\n",
    "    params.master_board = master_board\n",
    "\n",
    "    board = BoardShim(board_id, params)\n",
    "    print(board.get_eeg_channels(-1))\n",
    "    board.prepare_session()\n",
    "    board.start_stream(45000)\n",
    "    time.sleep(1)\n",
    "    # data = board.get_current_board_data (256) # get latest 256 packages or less, doesnt remove them from internal buffer\n",
    "    data = board.get_board_data()  # get all data and remove it from internal buffer\n",
    "    board.stop_stream()\n",
    "    board.release_session()\n",
    "\n",
    "    print(data[0:17])\n",
    "    print(data[0:17].shape)\n",
    "    return data[0:17]\n",
    "\n",
    "\n",
    "if __name__ == \"__main__\":\n",
    "    data = main()"
   ]
  }
 ],
 "metadata": {
  "kernelspec": {
   "display_name": ".venv",
   "language": "python",
   "name": "python3"
  },
  "language_info": {
   "codemirror_mode": {
    "name": "ipython",
    "version": 3
   },
   "file_extension": ".py",
   "mimetype": "text/x-python",
   "name": "python",
   "nbconvert_exporter": "python",
   "pygments_lexer": "ipython3",
   "version": "3.12.2"
  }
 },
 "nbformat": 4,
 "nbformat_minor": 2
}
